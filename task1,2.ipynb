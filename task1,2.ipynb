{
 "cells": [
  {
   "cell_type": "markdown",
   "id": "a6ad80fe",
   "metadata": {},
   "source": [
    "# TASK1"
   ]
  },
  {
   "cell_type": "code",
   "execution_count": 1,
   "id": "9d752c9f",
   "metadata": {},
   "outputs": [],
   "source": [
    "import webbrowser"
   ]
  },
  {
   "cell_type": "code",
   "execution_count": 8,
   "id": "4dca3281",
   "metadata": {},
   "outputs": [
    {
     "name": "stdout",
     "output_type": "stream",
     "text": [
      "enter the pass123456\n"
     ]
    }
   ],
   "source": [
    "with open(\"baby.txt\",\"r+\") as b:\n",
    "    c= input(\"enter the pass\")\n",
    "    if(c == b.read()):\n",
    "        webbrowser.open('https://www.google.com/')\n",
    "    else:\n",
    "        print(\"sever is down\") "
   ]
  },
  {
   "cell_type": "markdown",
   "id": "a1567811",
   "metadata": {},
   "source": [
    "# TASK2"
   ]
  },
  {
   "cell_type": "code",
   "execution_count": 2,
   "id": "c85314f0",
   "metadata": {},
   "outputs": [],
   "source": [
    "import webbrowser"
   ]
  },
  {
   "cell_type": "code",
   "execution_count": 7,
   "id": "37adca71",
   "metadata": {},
   "outputs": [],
   "source": [
    "u=open(\"user_name3\",\"x\")\n",
    "with open(\"user_name.txt\",\"w\") as i:\n",
    "    user=input(\"enter the user name:\")\n",
    "p=open(\"pass_code3\",\"x\")\n",
    "with open(\"pass_code.txt\",\"w\") as m:\n",
    "    passw=input(\"enter the password:\")\n",
    "    \n",
    "print(\"--------------store the password--------------\")\n",
    "\n",
    "\n",
    "user1=input(\"enter the pass\")\n",
    "pass1=input(\"enter tha code\")\n",
    "if(user1==user and pass1==passw):\n",
    "    webbrowser.open('https://www.google.com/')\n",
    "else:\n",
    "    print(\"worng id and password\")  "
   ]
  },
  {
   "cell_type": "code",
   "execution_count": null,
   "id": "e14dbbfe",
   "metadata": {},
   "outputs": [],
   "source": []
  }
 ],
 "metadata": {
  "kernelspec": {
   "display_name": "Python 3 (ipykernel)",
   "language": "python",
   "name": "python3"
  },
  "language_info": {
   "codemirror_mode": {
    "name": "ipython",
    "version": 3
   },
   "file_extension": ".py",
   "mimetype": "text/x-python",
   "name": "python",
   "nbconvert_exporter": "python",
   "pygments_lexer": "ipython3",
   "version": "3.11.3"
  }
 },
 "nbformat": 4,
 "nbformat_minor": 5
}
